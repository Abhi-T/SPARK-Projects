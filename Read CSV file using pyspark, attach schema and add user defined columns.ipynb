{
 "cells": [
  {
   "cell_type": "code",
   "execution_count": 1,
   "metadata": {},
   "outputs": [],
   "source": [
    "from pyspark.sql.session import SparkSession\n",
    "\n",
    "sc=SparkSession.builder.master('local').appName(\"csvReader\").getOrCreate()"
   ]
  },
  {
   "cell_type": "code",
   "execution_count": 14,
   "metadata": {},
   "outputs": [
    {
     "name": "stdout",
     "output_type": "stream",
     "text": [
      "root\n",
      " |-- MAKE: string (nullable = true)\n",
      " |-- FUELTYPE: string (nullable = true)\n",
      " |-- ASPIRE: string (nullable = true)\n",
      " |-- DOORS: string (nullable = true)\n",
      " |-- BODY: string (nullable = true)\n",
      " |-- DRIVE: string (nullable = true)\n",
      " |-- CYLINDERS: string (nullable = true)\n",
      " |-- HP: string (nullable = true)\n",
      " |-- RPM: string (nullable = true)\n",
      " |-- MPG-CITY: string (nullable = true)\n",
      " |-- MPG-HWY: string (nullable = true)\n",
      " |-- PRICE: string (nullable = true)\n",
      "\n"
     ]
    }
   ],
   "source": [
    "#Read CSV file into DataFrame, with header\n",
    "df=sc.read.option(\"header\",True).csv(\"auto-data.csv\")\n",
    "df.printSchema()"
   ]
  },
  {
   "cell_type": "code",
   "execution_count": 17,
   "metadata": {},
   "outputs": [
    {
     "name": "stdout",
     "output_type": "stream",
     "text": [
      "root\n",
      " |-- _c0: string (nullable = true)\n",
      " |-- _c1: string (nullable = true)\n",
      " |-- _c2: string (nullable = true)\n",
      " |-- _c3: string (nullable = true)\n",
      " |-- _c4: string (nullable = true)\n",
      " |-- _c5: string (nullable = true)\n",
      " |-- _c6: string (nullable = true)\n",
      " |-- _c7: string (nullable = true)\n",
      " |-- _c8: string (nullable = true)\n",
      " |-- _c9: string (nullable = true)\n",
      " |-- _c10: string (nullable = true)\n",
      " |-- _c11: string (nullable = true)\n",
      "\n"
     ]
    }
   ],
   "source": [
    "#Read CSV file into DataFrame, without header\n",
    "df1=sc.read.csv(\"auto-data-without-column_Name.csv\")\n",
    "df1.printSchema()"
   ]
  },
  {
   "cell_type": "code",
   "execution_count": 18,
   "metadata": {},
   "outputs": [
    {
     "name": "stdout",
     "output_type": "stream",
     "text": [
      "<class 'pyspark.sql.dataframe.DataFrame'>\n"
     ]
    }
   ],
   "source": [
    "print(type(df1))"
   ]
  },
  {
   "cell_type": "code",
   "execution_count": 41,
   "metadata": {},
   "outputs": [],
   "source": [
    "# Like an RDD, a DataFrame is an immutable distributed collection of data.\n",
    "# Unlike an RDD, data is organized into named columns, like a table in a relational database\n",
    "df2=df1.toDF(\"1\",\"2\",\"3\",\"4\",\"5\",\"6\",\"7\",\"8\",\"9\",\"10\",\"11\",\"12\")"
   ]
  },
  {
   "cell_type": "code",
   "execution_count": 42,
   "metadata": {},
   "outputs": [
    {
     "name": "stdout",
     "output_type": "stream",
     "text": [
      "root\n",
      " |-- 1: string (nullable = true)\n",
      " |-- 2: string (nullable = true)\n",
      " |-- 3: string (nullable = true)\n",
      " |-- 4: string (nullable = true)\n",
      " |-- 5: string (nullable = true)\n",
      " |-- 6: string (nullable = true)\n",
      " |-- 7: string (nullable = true)\n",
      " |-- 8: string (nullable = true)\n",
      " |-- 9: string (nullable = true)\n",
      " |-- 10: integer (nullable = true)\n",
      " |-- 11: integer (nullable = true)\n",
      " |-- 12: integer (nullable = true)\n",
      "\n"
     ]
    }
   ],
   "source": [
    "df2.printSchema()"
   ]
  },
  {
   "cell_type": "code",
   "execution_count": 43,
   "metadata": {},
   "outputs": [],
   "source": [
    "\n",
    "from pyspark.sql.types import StringType, IntegerType, StructType, StructField"
   ]
  },
  {
   "cell_type": "code",
   "execution_count": 44,
   "metadata": {},
   "outputs": [
    {
     "name": "stdout",
     "output_type": "stream",
     "text": [
      "root\n",
      " |-- MAKE: string (nullable = true)\n",
      " |-- FUELTYPE: string (nullable = true)\n",
      " |-- ASPIRE: string (nullable = true)\n",
      " |-- DOORS: string (nullable = true)\n",
      " |-- BODY: string (nullable = true)\n",
      " |-- DRIVE: string (nullable = true)\n",
      " |-- CYLINDERS: string (nullable = true)\n",
      " |-- HP: string (nullable = true)\n",
      " |-- RPM: string (nullable = true)\n",
      " |-- MPG-CITY: integer (nullable = true)\n",
      " |-- MPG-HWY: integer (nullable = true)\n",
      " |-- PRICE: integer (nullable = true)\n",
      "\n"
     ]
    }
   ],
   "source": [
    "\n",
    "\n",
    "# .schema(table_schema)\n",
    "#create user defined schema\n",
    "CustomSchema = StructType([StructField('MAKE', StringType(), True),\n",
    "                     StructField('FUELTYPE', StringType(), True),\n",
    "                     StructField('ASPIRE', StringType(), True),\n",
    "                     StructField('DOORS', StringType(), True),\n",
    "                     StructField('BODY', StringType(), True),\n",
    "                     StructField('DRIVE', StringType(), True),\n",
    "                     StructField('CYLINDERS', StringType(), True),\n",
    "                     StructField('HP', StringType(), True),\n",
    "                     StructField('RPM', StringType(), True),\n",
    "                     StructField('MPG-CITY', IntegerType(), True),\n",
    "                     StructField('MPG-HWY', IntegerType(), True),\n",
    "                     StructField('PRICE', IntegerType(), True)])\n",
    "\n",
    "#Read CSV file into DataFrame, without header\n",
    "df1=sc.read.csv(\"auto-data-without-column_Name.csv\",schema=CustomSchema)\n",
    "df1.printSchema()"
   ]
  },
  {
   "cell_type": "code",
   "execution_count": null,
   "metadata": {},
   "outputs": [],
   "source": []
  }
 ],
 "metadata": {
  "kernelspec": {
   "display_name": "Python 3",
   "language": "python",
   "name": "python3"
  },
  "language_info": {
   "codemirror_mode": {
    "name": "ipython",
    "version": 3
   },
   "file_extension": ".py",
   "mimetype": "text/x-python",
   "name": "python",
   "nbconvert_exporter": "python",
   "pygments_lexer": "ipython3",
   "version": "3.7.4"
  }
 },
 "nbformat": 4,
 "nbformat_minor": 2
}
